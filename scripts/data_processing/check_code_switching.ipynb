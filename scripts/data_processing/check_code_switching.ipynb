{
 "cells": [
  {
   "cell_type": "markdown",
   "metadata": {},
   "source": [
    "# Check code-switching\n",
    "In which we check to see if our data labelled as Catalan/Spanish contains any code-switching. A legitimate concern!"
   ]
  },
  {
   "cell_type": "code",
   "execution_count": 4,
   "metadata": {
    "collapsed": true
   },
   "outputs": [],
   "source": [
    "import pandas as pd\n",
    "import json\n",
    "import codecs"
   ]
  },
  {
   "cell_type": "markdown",
   "metadata": {},
   "source": [
    "## Load data\n",
    "We'll use the data from the independence referendum dataset (IT) rather than the controls (XT)."
   ]
  },
  {
   "cell_type": "code",
   "execution_count": 13,
   "metadata": {
    "collapsed": false
   },
   "outputs": [],
   "source": [
    "ref_tweets = [json.loads(l.strip()) for l in codecs.open('../../data/tweets/archive_Jan-01-17_Oct-31-17_ref_hashtags_filtered.json', 'r', encoding='utf-8')]\n",
    "ref_tweet_data = pd.concat([pd.Series(t) for t in ref_tweets], axis=1).transpose()\n",
    "lang_id_data = pd.read_csv('../../data/tweets/archive_Jan-01-17_Oct-31-17_ref_hashtags_filtered_langid.csv', \n",
    "                           index_col=False, encoding='utf-8')\n",
    "# join on tweet ID\n",
    "ref_tweet_data = pd.merge(ref_tweet_data, lang_id_data, on='id', how='inner')"
   ]
  },
  {
   "cell_type": "code",
   "execution_count": null,
   "metadata": {
    "collapsed": false
   },
   "outputs": [],
   "source": [
    "ref_tweet_data.head()"
   ]
  },
  {
   "cell_type": "code",
   "execution_count": 15,
   "metadata": {
    "collapsed": false
   },
   "outputs": [
    {
     "name": "stdout",
     "output_type": "stream",
     "text": [
      "2549 Catalan tweets\n",
      "4320 Spanish tweets\n"
     ]
    }
   ],
   "source": [
    "ca_tweets = ref_tweet_data[ref_tweet_data.loc[:, 'lang'] == 'ca']\n",
    "es_tweets = ref_tweet_data[ref_tweet_data.loc[:, 'lang'] == 'es']\n",
    "print('%d Catalan tweets'%(ca_tweets.shape[0]))\n",
    "print('%d Spanish tweets'%(es_tweets.shape[0]))"
   ]
  },
  {
   "cell_type": "markdown",
   "metadata": {},
   "source": [
    "Let's get a sample of 50 Catalan and 50 Spanish tweets."
   ]
  },
  {
   "cell_type": "code",
   "execution_count": 17,
   "metadata": {
    "collapsed": true
   },
   "outputs": [],
   "source": [
    "# set seed\n",
    "pd.np.random.seed(123)\n",
    "N = 100\n",
    "sample_size = N / 2\n",
    "ca_sample = ca_tweets.loc[pd.np.random.choice(ca_tweets.index, sample_size, replace=False), :]\n",
    "es_sample = es_tweets.loc[pd.np.random.choice(es_tweets.index, sample_size, replace=False), :]\n",
    "combined_sample = pd.concat([ca_sample, es_sample])"
   ]
  },
  {
   "cell_type": "code",
   "execution_count": 20,
   "metadata": {
    "collapsed": true
   },
   "outputs": [],
   "source": [
    "# clean up text for printing\n",
    "combined_sample.loc[:, 'text'] = combined_sample.loc[:, 'text'].apply(lambda x: x.replace('\\n', ''))"
   ]
  },
  {
   "cell_type": "code",
   "execution_count": null,
   "metadata": {
    "collapsed": false
   },
   "outputs": [],
   "source": [
    "print('\\n'.join(combined_sample.apply(lambda x: 'lang=%s:\\t%s'%(x.loc['lang'], x.loc['text']), axis=1).values))"
   ]
  },
  {
   "cell_type": "markdown",
   "metadata": {},
   "source": [
    "Dump to file for annotation, reupload later."
   ]
  },
  {
   "cell_type": "code",
   "execution_count": 27,
   "metadata": {
    "collapsed": true
   },
   "outputs": [],
   "source": [
    "combined_sample.to_csv('../../data/tweets/CA_ES_sample_tweets.tsv', sep='\\t', index=False, encoding='utf-8')"
   ]
  },
  {
   "cell_type": "code",
   "execution_count": null,
   "metadata": {
    "collapsed": true
   },
   "outputs": [],
   "source": []
  }
 ],
 "metadata": {
  "kernelspec": {
   "display_name": "Python 2",
   "language": "python",
   "name": "python2"
  },
  "language_info": {
   "codemirror_mode": {
    "name": "ipython",
    "version": 2
   },
   "file_extension": ".py",
   "mimetype": "text/x-python",
   "name": "python",
   "nbconvert_exporter": "python",
   "pygments_lexer": "ipython2",
   "version": "2.7.10"
  }
 },
 "nbformat": 4,
 "nbformat_minor": 0
}
