{
 "cells": [
  {
   "cell_type": "markdown",
   "metadata": {},
   "source": [
    "# Get sample ES/CA tweets"
   ]
  },
  {
   "cell_type": "code",
   "execution_count": 2,
   "metadata": {
    "collapsed": true
   },
   "outputs": [],
   "source": [
    "import json\n",
    "import pandas as pd\n",
    "import codecs"
   ]
  },
  {
   "cell_type": "markdown",
   "metadata": {},
   "source": [
    "## Load data"
   ]
  },
  {
   "cell_type": "code",
   "execution_count": null,
   "metadata": {
    "collapsed": false
   },
   "outputs": [],
   "source": [
    "tweets_json = [json.loads(l.strip()) for l in codecs.open('../../data/tweets/archive_Jan-01-17_Oct-31-17_ref_hashtags_filtered.json', 'r', encoding='utf-8')]\n",
    "tweets_langid = pd.read_csv('../../data/tweets/archive_Jan-01-17_Oct-31-17_ref_hashtags_filtered_langid.csv', index_col=False)\n",
    "tweets_df = pd.concat(map(pd.Series, tweets_json), axis=1).transpose()\n",
    "# cleanup\n",
    "tweets_df.loc[:, 'text'] = tweets_df.loc[:, 'text'].apply(lambda x: x.replace('\\n', ''))\n",
    "# join on id\n",
    "tweets_df = pd.merge(tweets_df, tweets_langid, on='id')\n",
    "print(tweets_df.head())"
   ]
  },
  {
   "cell_type": "markdown",
   "metadata": {},
   "source": [
    "## Catalan examples"
   ]
  },
  {
   "cell_type": "code",
   "execution_count": null,
   "metadata": {
    "collapsed": false
   },
   "outputs": [],
   "source": [
    "tweets_df_ca = tweets_df[tweets_df.loc[:, 'lang'] == 'ca']\n",
    "print('\\n'.join(tweets_df_ca.head(20).loc[:, 'text']))\n",
    "print(tweets_df_ca.head(20))"
   ]
  },
  {
   "cell_type": "markdown",
   "metadata": {},
   "source": [
    "## Spanish examples"
   ]
  },
  {
   "cell_type": "code",
   "execution_count": null,
   "metadata": {
    "collapsed": false
   },
   "outputs": [],
   "source": [
    "tweets_df_es = tweets_df[tweets_df.loc[:, 'lang'] == 'es']\n",
    "print('\\n'.join(tweets_df_es.head(50).loc[:, 'text']))\n",
    "print(tweets_df_es.head(50))"
   ]
  },
  {
   "cell_type": "code",
   "execution_count": null,
   "metadata": {
    "collapsed": true
   },
   "outputs": [],
   "source": []
  }
 ],
 "metadata": {
  "kernelspec": {
   "display_name": "Python 2",
   "language": "python",
   "name": "python2"
  },
  "language_info": {
   "codemirror_mode": {
    "name": "ipython",
    "version": 2
   },
   "file_extension": ".py",
   "mimetype": "text/x-python",
   "name": "python",
   "nbconvert_exporter": "python",
   "pygments_lexer": "ipython2",
   "version": "2.7.10"
  }
 },
 "nbformat": 4,
 "nbformat_minor": 0
}
