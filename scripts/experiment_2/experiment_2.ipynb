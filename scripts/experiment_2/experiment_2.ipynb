{
 "cells": [
  {
   "cell_type": "markdown",
   "metadata": {},
   "source": [
    "# Experiment 2\n",
    "In which we attempt to implement Experiment 2 from the original study.\n",
    "\n",
    "$H_{0}$: People are equally likely to use Catalan in non-referendum tweets as in referendum-specific tweets.\n",
    "\n",
    "$H_{1}$: People are more likely to use Catalan in non-referendum tweets as in referendum-specific tweets."
   ]
  },
  {
   "cell_type": "code",
   "execution_count": 1,
   "metadata": {
    "collapsed": true
   },
   "outputs": [],
   "source": [
    "import pandas as pd\n",
    "import matplotlib\n",
    "%matplotlib inline\n",
    "import matplotlib.pyplot as plt"
   ]
  },
  {
   "cell_type": "markdown",
   "metadata": {},
   "source": [
    "## Load data"
   ]
  },
  {
   "cell_type": "code",
   "execution_count": 2,
   "metadata": {
    "collapsed": false
   },
   "outputs": [
    {
     "name": "stdout",
     "output_type": "stream",
     "text": [
      "                   id             user  \\\n",
      "0  850626678380535808     CampsCliment   \n",
      "1  850628981040848896         Dom70Bcn   \n",
      "2  850631111747276800  Estrellas_Siete   \n",
      "3  850632361649860608    pasionxespana   \n",
      "4  850632420365873152        MH17files   \n",
      "\n",
      "                                                text  \\\n",
      "0  RT @_Gafas_y_reloj_: El nulo interés de PP y C...   \n",
      "1  RT @MTudela: ‘Té gràcia estudiar a una univers...   \n",
      "2  Las empresas valencianas pueden solicitar #sub...   \n",
      "3  #españaesuna #stopUE #stopOTAN #stopLGTB #stop...   \n",
      "4  RT @pthefigg: @EliotHiggins @benimmo @DFRLab @...   \n",
      "\n",
      "                                            hashtags  contains_ref_hashtag  \\\n",
      "0                                                NaN                     0   \n",
      "1                                                NaN                     0   \n",
      "2         subvenciones,contratacion,jovenes,Valencia                     0   \n",
      "3  españaesuna,stopUE,stopOTAN,stopLGTB,stopgloba...                     0   \n",
      "4                                        bellingcrap                     0   \n",
      "\n",
      "  lang  lang_conf  retweeted  \n",
      "0   es   1.000000          1  \n",
      "1   ca   1.000000          1  \n",
      "2   es   1.000000          0  \n",
      "3   es   1.000000          0  \n",
      "4   sw   0.428915          1  \n",
      "212476 total tweets\n"
     ]
    }
   ],
   "source": [
    "data = pd.read_csv('../../data/tweets/extra_user_tweets/Jan-01-17_Oct-31-17_user_tweets.tsv', sep='\\t', index_col=False)\n",
    "print(data.head())\n",
    "print('%d total tweets'%(data.shape[0]))\n",
    "data.loc[:, 'hashtags'] = data.loc[:, 'hashtags'].fillna('', inplace=False)"
   ]
  },
  {
   "cell_type": "code",
   "execution_count": 3,
   "metadata": {
    "collapsed": false
   },
   "outputs": [],
   "source": [
    "# compute hashtag counts for later filtering\n",
    "data.loc[:, 'hashtag_count'] = data.loc[:, 'hashtags'].apply(lambda x: 0 if x=='' else len(x.split(',')))"
   ]
  },
  {
   "cell_type": "code",
   "execution_count": 4,
   "metadata": {
    "collapsed": false
   },
   "outputs": [
    {
     "name": "stdout",
     "output_type": "stream",
     "text": [
      "0    208927\n",
      "1      3549\n",
      "Name: contains_ref_hashtag, dtype: int64\n"
     ]
    }
   ],
   "source": [
    "print(data.loc[:, 'contains_ref_hashtag'].value_counts())"
   ]
  },
  {
   "cell_type": "code",
   "execution_count": 5,
   "metadata": {
    "collapsed": false
   },
   "outputs": [
    {
     "name": "stdout",
     "output_type": "stream",
     "text": [
      "81458 original tweets\n",
      "52364 relevant tweets\n"
     ]
    }
   ],
   "source": [
    "# get rid of retweeted stuff\n",
    "data_original = data[data.loc[:, 'retweeted'] == 0]\n",
    "print('%d original tweets'%(data_original.shape[0]))\n",
    "# language cutoff\n",
    "lang_conf_cutoff = 0.90\n",
    "allowed_langs = set(['es', 'ca'])\n",
    "data_original_high_conf = data_original[(data_original.loc[:, 'lang_conf'] >= lang_conf_cutoff) &\n",
    "                                        (data_original.loc[:, 'lang'].isin(allowed_langs))]\n",
    "print('%d relevant tweets'%(data_original_high_conf.shape[0]))"
   ]
  },
  {
   "cell_type": "code",
   "execution_count": 6,
   "metadata": {
    "collapsed": false
   },
   "outputs": [
    {
     "name": "stdout",
     "output_type": "stream",
     "text": [
      "775 relevant users\n",
      "32044 relevant tweets\n"
     ]
    }
   ],
   "source": [
    "# restrict to users who have tweeted at least once with a referendum hashtag (contains_ref_hashtag==1)\n",
    "# and at least once without a referendum hashtag (contains_ref_hashtag==0)\n",
    "relevant_users = data_original_high_conf.groupby('user').apply(lambda x: (x.loc[:, 'contains_ref_hashtag'].max()==1 and \n",
    "                                                                          x.loc[:, 'contains_ref_hashtag'].min()==0))\n",
    "relevant_users = relevant_users[relevant_users].index.tolist()\n",
    "print('%d relevant users'%(len(relevant_users)))\n",
    "data_relevant = data_original_high_conf[data_original_high_conf.loc[:, 'user'].isin(relevant_users)]\n",
    "print('%d relevant tweets'%(data_relevant.shape[0]))"
   ]
  },
  {
   "cell_type": "markdown",
   "metadata": {},
   "source": [
    "Sample size is really small! This will probably affect our power."
   ]
  },
  {
   "cell_type": "markdown",
   "metadata": {},
   "source": [
    "## All controls\n",
    "This test uses as control all tweets without any referendum hashtags."
   ]
  },
  {
   "cell_type": "code",
   "execution_count": 23,
   "metadata": {
    "collapsed": true
   },
   "outputs": [],
   "source": [
    "data_ref = data_relevant[data_relevant.loc[:, 'contains_ref_hashtag'] == 1]\n",
    "data_control = data_relevant[data_relevant.loc[:, 'contains_ref_hashtag'] == 0]"
   ]
  },
  {
   "cell_type": "code",
   "execution_count": 38,
   "metadata": {
    "collapsed": false
   },
   "outputs": [
    {
     "name": "stdout",
     "output_type": "stream",
     "text": [
      "890 referendum tweets\n",
      "31154 non-referendum tweets\n",
      "775 users\n"
     ]
    }
   ],
   "source": [
    "print('%d referendum tweets'%(data_ref.shape[0]))\n",
    "print('%d non-referendum tweets'%(data_control.shape[0]))\n",
    "print('%d users'%(data_relevant.loc[:, 'user'].nunique()))"
   ]
  },
  {
   "cell_type": "code",
   "execution_count": 27,
   "metadata": {
    "collapsed": false
   },
   "outputs": [
    {
     "name": "stdout",
     "output_type": "stream",
     "text": [
      "es    679\n",
      "ca    211\n",
      "Name: lang, dtype: int64\n",
      "es    29347\n",
      "ca     1807\n",
      "Name: lang, dtype: int64\n"
     ]
    }
   ],
   "source": [
    "print(data_ref.loc[:, 'lang'].value_counts())\n",
    "print(data_control.loc[:, 'lang'].value_counts())"
   ]
  },
  {
   "cell_type": "code",
   "execution_count": 24,
   "metadata": {
    "collapsed": false
   },
   "outputs": [
    {
     "name": "stdout",
     "output_type": "stream",
     "text": [
      "user\n",
      "12decima12         0.0\n",
      "19722791es         0.0\n",
      "24clm              0.0\n",
      "3OejCDcfvFi0M1B    0.0\n",
      "4G_RED             0.0\n",
      "dtype: float64\n",
      "user\n",
      "12decima12         0.0\n",
      "19722791es         0.0\n",
      "24clm              0.0\n",
      "3OejCDcfvFi0M1B    0.0\n",
      "4G_RED             0.0\n",
      "dtype: float64\n"
     ]
    }
   ],
   "source": [
    "# compute probability of choosing Catalan in ref and control\n",
    "from __future__ import division\n",
    "lang = 'ca'\n",
    "compute_prob_lang = lambda x: x[x.loc[:, 'lang'] == lang].shape[0] / x.shape[0]\n",
    "cat_prob_ref = data_ref.groupby('user').apply(compute_prob_lang)\n",
    "cat_prob_control = data_control.groupby('user').apply(compute_prob_lang)\n",
    "print(cat_prob_ref.head())\n",
    "print(cat_prob_control.head())"
   ]
  },
  {
   "cell_type": "code",
   "execution_count": 29,
   "metadata": {
    "collapsed": false
   },
   "outputs": [],
   "source": [
    "all_control_d_u = cat_prob_ref - cat_prob_control\n",
    "all_control_d_u_mean = all_control_d_u.mean()"
   ]
  },
  {
   "cell_type": "code",
   "execution_count": 30,
   "metadata": {
    "collapsed": true
   },
   "outputs": [],
   "source": [
    "all_control_d_u_stderr = all_control_d_u.std() / len(all_control_d_u)**.5"
   ]
  },
  {
   "cell_type": "code",
   "execution_count": 31,
   "metadata": {
    "collapsed": false
   },
   "outputs": [
    {
     "name": "stdout",
     "output_type": "stream",
     "text": [
      "d_u for all control tweets is 0.031 +/- 0.011\n"
     ]
    }
   ],
   "source": [
    "print('d_u for all control tweets is %.3f +/- %.3f'%(all_control_d_u_mean, all_control_d_u_stderr))"
   ]
  },
  {
   "cell_type": "code",
   "execution_count": 35,
   "metadata": {
    "collapsed": false
   },
   "outputs": [
    {
     "name": "stdout",
     "output_type": "stream",
     "text": [
      "significance: t=2.839 p=4.640E-03\n"
     ]
    }
   ],
   "source": [
    "from scipy.stats import ttest_1samp\n",
    "d_u_null = 0.\n",
    "t_stat, p_val = ttest_1samp(all_control_d_u, d_u_null)\n",
    "print('significance: t=%.3f p=%.3E'%(t_stat, p_val))"
   ]
  },
  {
   "cell_type": "markdown",
   "metadata": {},
   "source": [
    "**Conclusion 1**:\n",
    "\n",
    "People are more likely to speak Catalan when using a tweet with a referendum hashtag as compared to a tweet without a referendum hashtag."
   ]
  },
  {
   "cell_type": "markdown",
   "metadata": {},
   "source": [
    "## Hashtag control\n",
    "Same test but only allowing tweets that contain at least one hashtag."
   ]
  },
  {
   "cell_type": "code",
   "execution_count": 59,
   "metadata": {
    "collapsed": false
   },
   "outputs": [
    {
     "name": "stdout",
     "output_type": "stream",
     "text": [
      "656 referendum tweets\n",
      "13956 non-referendum tweets\n",
      "550 users\n"
     ]
    }
   ],
   "source": [
    "data_with_hashtags = data_original_high_conf[data_original_high_conf.loc[:, 'hashtag_count'] > 0]\n",
    "# recompute relevant users\n",
    "relevant_users = data_with_hashtags.groupby('user').apply(lambda x: (x.loc[:, 'contains_ref_hashtag'].max()==1 and \n",
    "                                                                     x.loc[:, 'contains_ref_hashtag'].min()==0))\n",
    "relevant_users = relevant_users[relevant_users].index.tolist()\n",
    "# recompute relevant data\n",
    "data_relevant_with_hashtags = data_with_hashtags[data_with_hashtags.loc[:, 'user'].isin(relevant_users)]\n",
    "data_ref = data_relevant_with_hashtags[data_relevant_with_hashtags.loc[:, 'contains_ref_hashtag'] == 1]\n",
    "data_control = data_relevant_with_hashtags[data_relevant_with_hashtags.loc[:, 'contains_ref_hashtag'] == 0]\n",
    "print('%d referendum tweets'%(data_ref.shape[0]))\n",
    "print('%d non-referendum tweets'%(data_control.shape[0]))\n",
    "print('%d users'%(data_relevant_with_hashtags.loc[:, 'user'].nunique()))"
   ]
  },
  {
   "cell_type": "code",
   "execution_count": 62,
   "metadata": {
    "collapsed": false
   },
   "outputs": [
    {
     "name": "stdout",
     "output_type": "stream",
     "text": [
      "d_u for all control hashtag tweets is 0.014 +/- 0.011\n",
      "significance: t=1.230 p=2.192E-01\n"
     ]
    }
   ],
   "source": [
    "cat_prob_ref = data_ref.groupby('user').apply(compute_prob_lang)\n",
    "cat_prob_control = data_control.groupby('user').apply(compute_prob_lang)\n",
    "hashtag_control_d_u = cat_prob_ref - cat_prob_control\n",
    "hashtag_control_d_u_mean = hashtag_control_d_u.mean()\n",
    "hashtag_control_d_u_stderr = hashtag_control_d_u.std() / len(hashtag_control_d_u)**.5\n",
    "print('d_u for all control hashtag tweets is %.3f +/- %.3f'%(hashtag_control_d_u_mean, hashtag_control_d_u_stderr))\n",
    "d_u_null = 0.\n",
    "t_stat, p_val = ttest_1samp(hashtag_control_d_u, d_u_null)\n",
    "print('significance: t=%.3f p=%.3E'%(t_stat, p_val))"
   ]
  },
  {
   "cell_type": "markdown",
   "metadata": {},
   "source": [
    "**Conclusion 2**:\n",
    "\n",
    "People are not more likely to speak Catalan when using a tweet with a referendum hashtag as compared to a tweet with some other hashtag."
   ]
  },
  {
   "cell_type": "markdown",
   "metadata": {
    "collapsed": true
   },
   "source": [
    "## Example referendum/non-referendum tweets\n",
    "To show Catalan versus Spanish usage."
   ]
  },
  {
   "cell_type": "code",
   "execution_count": 20,
   "metadata": {
    "collapsed": false
   },
   "outputs": [],
   "source": [
    "# we want ref_hashtag = 1, lang = ca\n",
    "# and ref_hashtag = 0, lang = es\n",
    "sample_data_ca = data_relevant[(data_relevant.loc[:, 'contains_ref_hashtag'] == 1) & \n",
    "                               (data_relevant.loc[:, 'lang'] == 'ca')]\n",
    "sample_data_es = data_relevant[(data_relevant.loc[:, 'contains_ref_hashtag'] == 0) & \n",
    "                               (data_relevant.loc[:, 'lang'] == 'es')]\n",
    "sample_users = list(set(sample_data_ca.loc[:, 'user'].unique()) & set(sample_data_es.loc[:, 'user'].unique()))"
   ]
  },
  {
   "cell_type": "code",
   "execution_count": 22,
   "metadata": {
    "collapsed": false
   },
   "outputs": [
    {
     "name": "stdout",
     "output_type": "stream",
     "text": [
      "user dmontserratnono CA text: Si l'#1Oct2017 guanya el \"No\" els Manel passaran a dir-se Manuel. Jo votaria \"Sí\". #AlguHoHaviaDeDir\n",
      "user dmontserratnono ES text: .@AliciaSCamacho puso en marcha la 'Operación Cataluña' con ayuda de Moragas | Diario Público https://t.co/KBCIeyew5z\n",
      "user RoigNegre CA text: @SiviLaCanya Així s'estimaran més. Tricorni contra tricorni #freepiolin\n",
      "user RoigNegre ES text: Los fascistas no nos quitarán la alegria.Ni en Barcelona ni en Caracas ni en Damascohttps://m.youtube.com/watch?v=1tP1umpp4M4#NoTincPor\n",
      "user elireshafenix CA text: Ell ho ha dit #SPain no és la nostra casa #marxem #SpanishDemocracyFails #9NSomTots @franceschoms #Catalunya… https://t.co/x4VqAMsUXn\n",
      "user elireshafenix ES text: @_infoLibre#oletu 😂😂😂autocrítica #PPstyle #SPain #caverna #Rajoy valora dictamen Comisión Venecia como aval TC https://t.co/mYBa4ShW9J @krls\n",
      "user cat_farres CA text: #6fsomtots #republicacatalana que ningu falti anem a per totes,molt aprop, visca Catalunya Lliure,trenquem cadenes. https://t.co/qESsjmNMtn\n",
      "user cat_farres ES text: @bachstandreu Gracias por seguirme, en breve te devuelvo follow :) #TuitUtil https://t.co/4uJszomz2E\n",
      "user vinasxifra CA text: Moment històric i somiat durant molts anys #RepublicaCatalana ara entre tots a defensar-la!! @alexsolventa https://t.co/cL0XJz6Hsm\n",
      "user vinasxifra ES text: Quina colla d'impresentables, viva el rey, viva el orden y la ley https://t.co/R3H2n953JL\n"
     ]
    }
   ],
   "source": [
    "pd.np.random.seed(123)\n",
    "sample_size = 5\n",
    "test_users = pd.np.random.choice(sample_users, size=sample_size, replace=False)\n",
    "for u in test_users:\n",
    "    u_ca_data = sample_data_ca[sample_data_ca.loc[:, 'user'] == u]\n",
    "    u_es_data = sample_data_es[sample_data_es.loc[:, 'user'] == u]\n",
    "#     if(u_ca_data.shape[0] > 0 and u_es_data.shape[0] > 0):\n",
    "    print('user %s CA text: %s'%(u, u_ca_data.loc[:, 'text'].values[0]))\n",
    "    print('user %s ES text: %s'%(u, u_es_data.loc[:, 'text'].values[0]))"
   ]
  },
  {
   "cell_type": "code",
   "execution_count": null,
   "metadata": {
    "collapsed": true
   },
   "outputs": [],
   "source": []
  },
  {
   "cell_type": "code",
   "execution_count": null,
   "metadata": {
    "collapsed": true
   },
   "outputs": [],
   "source": []
  }
 ],
 "metadata": {
  "kernelspec": {
   "display_name": "Python 2",
   "language": "python",
   "name": "python2"
  },
  "language_info": {
   "codemirror_mode": {
    "name": "ipython",
    "version": 2
   },
   "file_extension": ".py",
   "mimetype": "text/x-python",
   "name": "python",
   "nbconvert_exporter": "python",
   "pygments_lexer": "ipython2",
   "version": "2.7.10"
  }
 },
 "nbformat": 4,
 "nbformat_minor": 0
}
